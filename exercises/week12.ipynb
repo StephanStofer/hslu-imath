{
 "cells": [
  {
   "cell_type": "code",
   "execution_count": 1,
   "metadata": {},
   "outputs": [],
   "source": [
    "function [t,u] = ForwardEuler(f, tRange, u0, N)\n",
    "    t = zeros(N+1,1);\n",
    "    t(1) = tRange(1);\n",
    "    h = (tRange(2)-tRange(1))/N;\n",
    "    u(:,1) = u0;\n",
    "    for n = 1 :N\n",
    "        t(n+1) = t(n)+h;\n",
    "        u(:,n+1)=u(:,n)+h*feval(f,t(n),u(:,n));\n",
    "    end\n",
    "endfunction"
   ]
  },
  {
   "cell_type": "code",
   "execution_count": 2,
   "metadata": {},
   "outputs": [],
   "source": [
    "function du = my_ode(t,u)\n",
    "% du = my_ode(t,u) is the RHS function for the ODE u'=-u\n",
    "% t is the independent variable\n",
    "% u is the dependent variable\n",
    "% du is u'\n",
    "\n",
    "    du = -u;\n",
    "endfunction\n"
   ]
  },
  {
   "cell_type": "code",
   "execution_count": 4,
   "metadata": {},
   "outputs": [
    {
     "data": {
      "image/png": "[encoded data removed]",
      "text/plain": [
       "<IPython.core.display.Image object>"
      ]
     },
     "metadata": {},
     "output_type": "display_data"
    }
   ],
   "source": [
    "N1 = 20;\n",
    "u0 = 1.0;\n",
    "graphics_toolkit (\"gnuplot\")\n",
    "\n",
    "[t,u] = ForwardEuler('my_ode', [0.0,2.0], u0, N1);\n",
    "plot(t,u,'-bo','MarkerFaceColor','b');\n",
    "hold on\n",
    "N2 = 4;\n",
    "[t1,u1] = ForwardEuler('my_ode', [0.0,2.0], u0, N2);\n",
    "axis equal, axis([0 2 0 1]), xlabel('t'), ylabel('u')\n",
    "plot(t1,u1,'-go','MarkerFaceColor','g');\n",
    "plot(t,exp(-t),'-r','LineWidth',2);\n"
   ]
  },
  {
   "cell_type": "code",
   "execution_count": null,
   "metadata": {},
   "outputs": [],
   "source": []
  }
 ],
 "metadata": {
  "kernelspec": {
   "display_name": "Octave",
   "language": "octave",
   "name": "octave"
  },
  "language_info": {
   "file_extension": ".m",
   "help_links": [
    {
     "text": "GNU Octave",
     "url": "https://www.gnu.org/software/octave/support.html"
    },
    {
     "text": "Octave Kernel",
     "url": "https://github.com/Calysto/octave_kernel"
    },
    {
     "text": "MetaKernel Magics",
     "url": "https://metakernel.readthedocs.io/en/latest/source/README.html"
    }
   ],
   "mimetype": "text/x-octave",
   "name": "octave",
   "version": "6.1.0"
  }
 },
 "nbformat": 4,
 "nbformat_minor": 4
}
