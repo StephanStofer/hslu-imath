{
 "cells": [
  {
   "cell_type": "markdown",
   "metadata": {},
   "source": [
    "## Rotation um anderen Punkt\n",
    "Neue Punkte müssen noch durch w dividiert werden."
   ]
  },
  {
   "cell_type": "code",
   "execution_count": 1,
   "metadata": {},
   "outputs": [
    {
     "name": "stdout",
     "output_type": "stream",
     "text": [
      "NewPoints =\n",
      "\n",
      "  -1  -1  -2  -2\n",
      "   1   2   2   1\n",
      "   1   1   1   1\n",
      "\n"
     ]
    }
   ],
   "source": [
    "T = [1 0 1; 0 1 0; 0 0 1];\n",
    "R = [0 -1 0; 1 0 0; 0 0 1];\n",
    "Points = [0 1 1 0; 0 0 1 1; 1 1 1 1];\n",
    "NewPoints = inv(T) * R * T * Points"
   ]
  },
  {
   "cell_type": "code",
   "execution_count": null,
   "metadata": {},
   "outputs": [],
   "source": []
  }
 ],
 "metadata": {
  "kernelspec": {
   "display_name": "Octave",
   "language": "octave",
   "name": "octave"
  },
  "language_info": {
   "file_extension": ".m",
   "help_links": [
    {
     "text": "GNU Octave",
     "url": "https://www.gnu.org/software/octave/support.html"
    },
    {
     "text": "Octave Kernel",
     "url": "https://github.com/Calysto/octave_kernel"
    },
    {
     "text": "MetaKernel Magics",
     "url": "https://metakernel.readthedocs.io/en/latest/source/README.html"
    }
   ],
   "mimetype": "text/x-octave",
   "name": "octave",
   "version": "6.1.0"
  }
 },
 "nbformat": 4,
 "nbformat_minor": 4
}
