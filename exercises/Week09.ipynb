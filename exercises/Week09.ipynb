{
 "cells": [
  {
   "cell_type": "code",
   "execution_count": 2,
   "metadata": {},
   "outputs": [],
   "source": [
    "function T = TrapezoidalRule(f,a,b,n)\n",
    "% TRAPEZOIDALRULE computes the integral of f by subdividing the\n",
    "% interval [a,b] into n intervals using the trapezoidal rule.\n",
    "    x = linspace(a,b,n+1);\n",
    "    T = feval(f,a) + feval(f,b);\n",
    "    for i=1:n-1\n",
    "        T = T + 2*feval(f,x(i+1));\n",
    "    end\n",
    "    T = (b-a)*T/(2*n);\n",
    "end\n"
   ]
  },
  {
   "cell_type": "code",
   "execution_count": 3,
   "metadata": {},
   "outputs": [],
   "source": [
    "function S = SimpsonsRule(f,a,b,n)\n",
    "% SIMPSONSRULE computes the integral of f by subdividing the\n",
    "% interval [a,b] into an even number n of intervals using\n",
    "% Simpson's rule.\n",
    "    x = linspace(a,b,n+1);\n",
    "    S = feval(f,a) + feval(f,b);\n",
    "    for i=2:2:n\n",
    "        S = S + 4*feval(f,x(i));\n",
    "    end\n",
    "    for i=3:2:n-1\n",
    "        S = S + 2*feval(f,x(i));\n",
    "    end\n",
    "    S = (b-a)*S/(3*n);\n",
    "end\n"
   ]
  },
  {
   "cell_type": "code",
   "execution_count": 4,
   "metadata": {},
   "outputs": [],
   "source": [
    "format long\n",
    "f=@(x) [exp(-x*x)];"
   ]
  },
  {
   "cell_type": "code",
   "execution_count": 5,
   "metadata": {},
   "outputs": [
    {
     "name": "stdout",
     "output_type": "stream",
     "text": [
      "ns =\n",
      "\n",
      "     32     64    128    512   1024\n",
      "\n",
      "ans =  1.628312899375075\n",
      "ans =  1.628757382371713\n",
      "ans =  1.628868489202797\n",
      "ans =  1.628903208944738\n",
      "ans =  1.628904944917545\n"
     ]
    }
   ],
   "source": [
    "ns = [32,64,128,512,1024]\n",
    "for i=ns\n",
    "    TrapezoidalRule(f,-1,2,i)\n",
    "end"
   ]
  },
  {
   "cell_type": "code",
   "execution_count": 23,
   "metadata": {},
   "outputs": [
    {
     "name": "stdout",
     "output_type": "stream",
     "text": [
      "ans =  2.724249983421426\n"
     ]
    }
   ],
   "source": [
    "erf(2)-erf(-1)+sqrt(pi)/2"
   ]
  },
  {
   "cell_type": "code",
   "execution_count": null,
   "metadata": {},
   "outputs": [],
   "source": []
  }
 ],
 "metadata": {
  "kernelspec": {
   "display_name": "Octave",
   "language": "octave",
   "name": "octave"
  },
  "language_info": {
   "file_extension": ".m",
   "help_links": [
    {
     "text": "GNU Octave",
     "url": "https://www.gnu.org/software/octave/support.html"
    },
    {
     "text": "Octave Kernel",
     "url": "https://github.com/Calysto/octave_kernel"
    },
    {
     "text": "MetaKernel Magics",
     "url": "https://metakernel.readthedocs.io/en/latest/source/README.html"
    }
   ],
   "mimetype": "text/x-octave",
   "name": "octave",
   "version": "5.2.0"
  }
 },
 "nbformat": 4,
 "nbformat_minor": 4
}
