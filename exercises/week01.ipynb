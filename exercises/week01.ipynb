{
 "cells": [
  {
   "cell_type": "markdown",
   "metadata": {},
   "source": [
    "# Lineare Algebra - Excercises 1\n",
    "## Schwarz inequality and dot product\n",
    "\n",
    "If $∥v∥ = 5$ and $∥w∥ = 3$, what are the smallest and largest values of $∥v − w∥$?\n",
    "\n",
    "smallest Value: $5-3 = 2 = 2 "
   ]
  },
  {
   "cell_type": "markdown",
   "metadata": {},
   "source": [
    "What are the smallest and largest values of $v • w$? Hint: (i) use geometrical arguments; (ii) for an analytical proof use the Schwarz inequality and the definition of the dot product!"
   ]
  },
  {
   "cell_type": "code",
   "execution_count": 2,
   "metadata": {},
   "outputs": [],
   "source": [
    "def To_Reduced_Row_Echelon_Form(A): \n",
    "    if not A: return\n",
    "    lead = 0\n",
    "    rowCount = len(A)\n",
    "    columnCount = len(A[0]) \n",
    "    for r in range(rowCount):\n",
    "        if lead >= columnCount: \n",
    "            return\n",
    "        i=r\n",
    "        while A[i][lead] == 0:\n",
    "            i += 1\n",
    "            if i == rowCount: \n",
    "                i=r\n",
    "                lead += 1\n",
    "                if columnCount == lead:\n",
    "                    return\n",
    "        A[i],A[r] = A[r],A[i]\n",
    "        lv = A[r][lead]\n",
    "        A[r] = [arx / float(lv) for arx in A[r]] \n",
    "        for i in range(rowCount):\n",
    "            if i != r:\n",
    "                lv = A[i][lead]\n",
    "                A[i] = [iv - lv*rv for rv,iv in zip(A[r],A[i])] \n",
    "        lead += 1"
   ]
  },
  {
   "cell_type": "code",
   "execution_count": 11,
   "metadata": {},
   "outputs": [],
   "source": [
    "A = [[ 1, 2, -1, -4],\n",
    "[ 2, 3, -1, -11], [-2, 0, -3, 22]]"
   ]
  },
  {
   "cell_type": "code",
   "execution_count": 1,
   "metadata": {},
   "outputs": [
    {
     "ename": "IndentationError",
     "evalue": "expected an indented block (<ipython-input-1-1b2d736b5fed>, line 3)",
     "output_type": "error",
     "traceback": [
      "\u001b[0;36m  File \u001b[0;32m\"<ipython-input-1-1b2d736b5fed>\"\u001b[0;36m, line \u001b[0;32m3\u001b[0m\n\u001b[0;31m    print(', '.join( (str(rv) for rv in rw) ))\u001b[0m\n\u001b[0m        ^\u001b[0m\n\u001b[0;31mIndentationError\u001b[0m\u001b[0;31m:\u001b[0m expected an indented block\n"
     ]
    }
   ],
   "source": [
    "To_Reduced_Row_Echelon_Form(A)\n",
    "for rw in A:\n",
    "print(', '.join( (str(rv) for rv in rw) ))"
   ]
  },
  {
   "cell_type": "code",
   "execution_count": null,
   "metadata": {},
   "outputs": [],
   "source": []
  }
 ],
 "metadata": {
  "kernelspec": {
   "display_name": "Python 3",
   "language": "python",
   "name": "python3"
  },
  "language_info": {
   "codemirror_mode": {
    "name": "ipython",
    "version": 3
   },
   "file_extension": ".py",
   "mimetype": "text/x-python",
   "name": "python",
   "nbconvert_exporter": "python",
   "pygments_lexer": "ipython3",
   "version": "3.7.3"
  }
 },
 "nbformat": 4,
 "nbformat_minor": 4
}
